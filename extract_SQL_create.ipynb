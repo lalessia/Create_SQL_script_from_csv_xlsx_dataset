{
 "cells": [
  {
   "cell_type": "code",
   "execution_count": 1,
   "id": "6a39d186-cc6a-4777-928e-b3017958b123",
   "metadata": {
    "tags": []
   },
   "outputs": [],
   "source": [
    "import os\n",
    "from pathlib import Path\n",
    "import pandas as pd"
   ]
  },
  {
   "cell_type": "code",
   "execution_count": 2,
   "metadata": {},
   "outputs": [],
   "source": [
    "current_path = os.getcwd()\n",
    "dataset_path = os.path.join(current_path, 'dataset')\n",
    "dir_list = os.listdir(dataset_path)"
   ]
  },
  {
   "cell_type": "code",
   "execution_count": 3,
   "metadata": {},
   "outputs": [
    {
     "data": {
      "text/plain": [
       "['SDwarnings_10_09to06_16.csv',\n",
       " '.DS_Store',\n",
       " 'GAPaidSearchTraffic.csv',\n",
       " 'GAPaidSearchTraffic2.csv',\n",
       " 'BTSCountryCodes.csv',\n",
       " 'SDamerican_deaths_abroad_10_09_to_06_16.csv',\n",
       " 'continents2.csv',\n",
       " 'GAPaidSearchTraffic2.xlsx',\n",
       " 'BTSOriginUS_10_09_to_06_16.csv',\n",
       " 'backup']"
      ]
     },
     "execution_count": 3,
     "metadata": {},
     "output_type": "execute_result"
    }
   ],
   "source": [
    "dir_list"
   ]
  },
  {
   "cell_type": "markdown",
   "metadata": {},
   "source": [
    "<p>get the .csv and .xlsx files into 'dataset' folder. The 'dataset' path is into dataset_path variable</p>"
   ]
  },
  {
   "cell_type": "code",
   "execution_count": 3,
   "id": "c830cbdc-4f30-43fe-a9a1-177d2d635575",
   "metadata": {
    "tags": []
   },
   "outputs": [],
   "source": [
    "type_converter_dict = {'int64': 'integer',\n",
    "        'float64': 'real',\n",
    "        'object': 'character varying', \n",
    "        'bool': 'boolean',\n",
    "        'id': 'serial'}"
   ]
  },
  {
   "cell_type": "code",
   "execution_count": 4,
   "id": "e0b35671-3dfe-4a2d-a852-3bb8e0391a13",
   "metadata": {
    "tags": []
   },
   "outputs": [],
   "source": [
    "createSQL = \"READ ME: run thin code into PSQL Tool\""
   ]
  },
  {
   "cell_type": "code",
   "execution_count": 5,
   "metadata": {},
   "outputs": [
    {
     "name": "stdout",
     "output_type": "stream",
     "text": [
      "GAPaidSearchTraffic2.xlsx\n"
     ]
    }
   ],
   "source": [
    "for file in dir_list:\n",
    "    file_path = os.path.join(dataset_path, file)\n",
    "    schema = file.split('.')[0]\n",
    "    if '.' not in file:\n",
    "        break\n",
    "\n",
    "    ext = file.split('.')[1]\n",
    "    \n",
    "    if ext == 'csv':\n",
    "        df = pd.read_csv(file_path, sep=None, engine=\"python\")\n",
    "    elif ext == 'xlsx':\n",
    "        df = pd.read_excel(file_path)\n",
    "\n",
    "        new_csv_file = \"dataset/\" + file.split('.')[0] + \".csv\"\n",
    "        \n",
    "        df.to_csv(new_csv_file,  sep=',', index=False, encoding='utf-8') \n",
    "\n",
    "    createSQL = \"CREATE TABLE \"\n",
    "    createSQL = createSQL + (schema + \".\" + file.split('.')[0]).replace(\" \", \"\")\n",
    "    createSQL = createSQL + \"\\n(\\n\"\n",
    "\n",
    "    for column in df.columns:\n",
    "        column_name = ''.join(letter for letter in column if letter.isalnum())\n",
    "        if column_name == \"Unnamed0\":\n",
    "            column_name = \"id\"\n",
    "        createSQL = createSQL + column_name + \" \"\n",
    "        createSQL = createSQL + type_converter_dict[str(df[column].dtypes)] + \",\\n\"\n",
    "    \n",
    "    createSQL = createSQL[:-2]\n",
    "    createSQL = createSQL + \"\\n);\"\n",
    "    \n",
    "    copySQL = \"\\nCOPY \"+ (schema + \".\" + file.split('.')[0]).replace(\" \", \"\") + \" FROM '\" + file_path + \"' WITH (FORMAT csv);\"\n",
    "    createSQL = createSQL + \"\\n\" + copySQL + \"\\n\\n\"\n",
    "\n",
    "    f = open(\"create_table.sql\", \"a\")\n",
    "    f.write(createSQL)\n",
    "    f.write('')\n",
    "    f.close()"
   ]
  }
 ],
 "metadata": {
  "kernelspec": {
   "display_name": "Python 3 (ipykernel)",
   "language": "python",
   "name": "python3"
  },
  "language_info": {
   "codemirror_mode": {
    "name": "ipython",
    "version": 3
   },
   "file_extension": ".py",
   "mimetype": "text/x-python",
   "name": "python",
   "nbconvert_exporter": "python",
   "pygments_lexer": "ipython3",
   "version": "3.9.18"
  }
 },
 "nbformat": 4,
 "nbformat_minor": 5
}
